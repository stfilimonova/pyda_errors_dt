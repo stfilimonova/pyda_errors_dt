{
 "cells": [
  {
   "cell_type": "markdown",
   "metadata": {},
   "source": [
    "# Задание 1\n",
    "Печатные газеты использовали свой формат дат для каждого выпуска. Для каждой газеты из списка напишите формат указанной даты для перевода в объект datetime:\n",
    "\n",
    "The Moscow Times - Wednesday, October 2, 2002\n",
    "\n",
    "The Guardian - Friday, 11.10.13\n",
    "\n",
    "Daily News - Thursday, 18 August 1977"
   ]
  },
  {
   "cell_type": "code",
   "execution_count": 4,
   "metadata": {},
   "outputs": [],
   "source": [
    "from datetime import datetime\n",
    "TMTimes = datetime.strptime('Wednesday, October 2, 2002', '%A, %B %d, %Y')\n",
    "TGuar = datetime.strptime('Friday, 11.10.13', '%A, %d.%m.%y')\n",
    "DNews_dt = datetime.strptime('Thursday, 18 August 1977','%A, %d %B %Y')"
   ]
  },
  {
   "cell_type": "markdown",
   "metadata": {},
   "source": [
    "# Задание 2\n",
    "Дан поток дат в формате YYYY-MM-DD, в которых встречаются некорректные значения:\n",
    "\n",
    "stream = [‘2018-04-02’, ‘2018-02-29’, ‘2018-19-02’]\n",
    "\n",
    "Напишите функцию, которая проверяет эти даты на корректность.\n",
    "Т.е. для каждой даты возвращает True или False."
   ]
  },
  {
   "cell_type": "code",
   "execution_count": 6,
   "metadata": {},
   "outputs": [
    {
     "name": "stdout",
     "output_type": "stream",
     "text": [
      "True\n",
      "False\n",
      "False\n"
     ]
    }
   ],
   "source": [
    "from datetime import datetime\n",
    "def check():\n",
    "    stream = ['2018-04-02', '2018-02-29', '2018-19-02']\n",
    "    for x in stream:\n",
    "        try:\n",
    "            dt = datetime.strptime(x, '%Y-%m-%d')\n",
    "            print('True')\n",
    "        except:\n",
    "            print('False')\n",
    "check()"
   ]
  },
  {
   "cell_type": "markdown",
   "metadata": {},
   "source": [
    "# Задание 3\n",
    "Напишите функцию date_range, которая возвращает список дат за период от start_date до end_date.\n",
    "\n",
    "Даты должны вводиться в формате YYYY-MM-DD.\n",
    "В случае неверного формата или при start_date > end_date должен возвращаться пустой список."
   ]
  },
  {
   "cell_type": "code",
   "execution_count": 8,
   "metadata": {},
   "outputs": [
    {
     "name": "stdout",
     "output_type": "stream",
     "text": [
      "начальная дата в формате YYYY-MM-DD:2001-10-15\n",
      "конечная дата:2001-10-20\n"
     ]
    },
    {
     "data": {
      "text/plain": [
       "['2001-10-15',\n",
       " '2001-10-16',\n",
       " '2001-10-17',\n",
       " '2001-10-18',\n",
       " '2001-10-19',\n",
       " '2001-10-20']"
      ]
     },
     "execution_count": 8,
     "metadata": {},
     "output_type": "execute_result"
    }
   ],
   "source": [
    "from datetime import datetime, timedelta\n",
    "\n",
    "def date_range():\n",
    "    start_date = input('начальная дата в формате YYYY-MM-DD:')\n",
    "    end_date = input('конечная дата:')\n",
    "    \n",
    "    if start_date > end_date:\n",
    "        return([])\n",
    "    \n",
    "    try: \n",
    "        start_DT = datetime.strptime(start_date, '%Y-%m-%d')\n",
    "        end_DT = datetime.strptime(end_date, '%Y-%m-%d')\n",
    "    except:\n",
    "        return([])\n",
    "    \n",
    "    dt_range = []\n",
    "    start_DT = start_DT - timedelta(days=1)\n",
    "    while str(start_DT) < str(end_DT):\n",
    "        start_DT += timedelta(days=1)\n",
    "        dt_range.append(datetime.strftime(start_DT, '%Y-%m-%d'))\n",
    "        \n",
    "    return(dt_range)\n",
    "\n",
    "date_range()"
   ]
  }
 ],
 "metadata": {
  "kernelspec": {
   "display_name": "Python 3",
   "language": "python",
   "name": "python3"
  },
  "language_info": {
   "codemirror_mode": {
    "name": "ipython",
    "version": 3
   },
   "file_extension": ".py",
   "mimetype": "text/x-python",
   "name": "python",
   "nbconvert_exporter": "python",
   "pygments_lexer": "ipython3",
   "version": "3.8.3"
  }
 },
 "nbformat": 4,
 "nbformat_minor": 4
}
